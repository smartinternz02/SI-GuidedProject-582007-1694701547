{
  "cells": [
    {
      "cell_type": "markdown",
      "metadata": {
        "id": "Vs30Qdyeuz3h"
      },
      "source": [
        "##ASSIGNMENT 3"
      ]
    },
    {
      "cell_type": "code",
      "execution_count": null,
      "metadata": {
        "colab": {
          "base_uri": "https://localhost:8080/"
        },
        "id": "ftVnkavJow_B",
        "outputId": "23cd19a5-c9c4-4c42-9f89-e71bd00a26a5"
      },
      "outputs": [
        {
          "name": "stdout",
          "output_type": "stream",
          "text": [
            "the dataset is downloaded and loaded in task 2\n"
          ]
        }
      ],
      "source": [
        "print(\"the dataset is downloaded and loaded in task 2\")"
      ]
    },
    {
      "cell_type": "code",
      "execution_count": null,
      "metadata": {
        "id": "CVhA_zVqnLul"
      },
      "outputs": [],
      "source": [
        "import pandas as pd\n",
        "df=pd.read_csv('penguins_size.csv')\n"
      ]
    },
    {
      "cell_type": "code",
      "execution_count": null,
      "metadata": {
        "id": "SzIFpm_8ovFo"
      },
      "outputs": [],
      "source": [
        "import matplotlib.pyplot as plt"
      ]
    },
    {
      "cell_type": "markdown",
      "metadata": {
        "id": "-LfKArLsp3Gl"
      },
      "source": [
        "##Univariate"
      ]
    },
    {
      "cell_type": "code",
      "execution_count": null,
      "metadata": {
        "colab": {
          "base_uri": "https://localhost:8080/",
          "height": 719
        },
        "id": "DUCviZ6Eo5sK",
        "outputId": "6fcb7898-1890-4d71-d6f0-536fca5bfdbc"
      },
      "outputs": [
        {
          "name": "stdout",
          "output_type": "stream",
          "text": [
            "Summary statistics for culmen_length_mm: \n",
            " count    342.000000\n",
            "mean      43.921930\n",
            "std        5.459584\n",
            "min       32.100000\n",
            "25%       39.225000\n",
            "50%       44.450000\n",
            "75%       48.500000\n",
            "max       59.600000\n",
            "Name: culmen_length_mm, dtype: float64\n",
            "\n"
          ]
        },
        {
          "data": {
            "image/png": "[encoded data removed]",
            "text/plain": [
              "<Figure size 800x600 with 1 Axes>"
            ]
          },
          "metadata": {},
          "output_type": "display_data"
        }
      ],
      "source": [
        "\n",
        "num=['culmen_length_mm']\n",
        "for var in num:\n",
        "  summ=df[var].describe()\n",
        "  print(f\"Summary statistics for {var}: \\n {summ}\\n\")\n",
        "  plt.figure(figsize=(8,6))\n",
        "  plt.hist(df[var],bins=20,edgecolor='k')\n",
        "  plt.xlabel(var)\n",
        "  plt.ylabel('Frequqency')\n",
        "  plt.title(f'{var} Distribution')\n",
        "  plt.show()"
      ]
    },
    {
      "cell_type": "markdown",
      "metadata": {
        "id": "Tp87Pd3np6BU"
      },
      "source": [
        "##Bivariate"
      ]
    },
    {
      "cell_type": "code",
      "execution_count": null,
      "metadata": {
        "colab": {
          "base_uri": "https://localhost:8080/"
        },
        "id": "qqNo7_kLp0Q8",
        "outputId": "03a46b70-0d53-4dec-b56e-1bef4f5fbe8c"
      },
      "outputs": [
        {
          "name": "stdout",
          "output_type": "stream",
          "text": [
            "Cross-tabulaltion between species and island:\n",
            "island     Biscoe  Dream  Torgersen\n",
            "species                            \n",
            "Adelie         44     56         52\n",
            "Chinstrap       0     68          0\n",
            "Gentoo        124      0          0\n",
            "\n",
            "Cross-tabulaltion between species and sex:\n",
            "sex        .  FEMALE  MALE\n",
            "species                   \n",
            "Adelie     0      73    73\n",
            "Chinstrap  0      34    34\n",
            "Gentoo     1      58    61\n",
            "\n",
            "Cross-tabulaltion between island and species:\n",
            "species    Adelie  Chinstrap  Gentoo\n",
            "island                              \n",
            "Biscoe         44          0     124\n",
            "Dream          56         68       0\n",
            "Torgersen      52          0       0\n",
            "\n",
            "Cross-tabulaltion between island and sex:\n",
            "sex        .  FEMALE  MALE\n",
            "island                    \n",
            "Biscoe     1      80    83\n",
            "Dream      0      61    62\n",
            "Torgersen  0      24    23\n",
            "\n",
            "Cross-tabulaltion between sex and species:\n",
            "species  Adelie  Chinstrap  Gentoo\n",
            "sex                               \n",
            ".             0          0       1\n",
            "FEMALE       73         34      58\n",
            "MALE         73         34      61\n",
            "\n",
            "Cross-tabulaltion between sex and island:\n",
            "island  Biscoe  Dream  Torgersen\n",
            "sex                             \n",
            ".            1      0          0\n",
            "FEMALE      80     61         24\n",
            "MALE        83     62         23\n",
            "\n"
          ]
        }
      ],
      "source": [
        "cat=['species','island','sex']\n",
        "for var1 in cat:\n",
        "  for var2 in cat:\n",
        "    if var1!=var2:\n",
        "      cross_tab=pd.crosstab(df[var1],df[var2])\n",
        "      print(f\"Cross-tabulaltion between {var1} and {var2}:\\n{cross_tab}\\n\")"
      ]
    },
    {
      "cell_type": "code",
      "execution_count": null,
      "metadata": {
        "id": "e_5oE--6qdNw"
      },
      "outputs": [],
      "source": [
        "import seaborn as sns\n",
        "num=['culmen_length_mm','culmen_depth_mm','flipper_length_mm','body_mass_g']\n"
      ]
    },
    {
      "cell_type": "markdown",
      "metadata": {
        "id": "MnJsZv5sq73-"
      },
      "source": [
        "##Multivariate"
      ]
    },
    {
      "cell_type": "code",
      "execution_count": null,
      "metadata": {
        "colab": {
          "base_uri": "https://localhost:8080/",
          "height": 555
        },
        "id": "2bUvGHqQq-s0",
        "outputId": "e7ab6fe5-ba22-4033-84ec-5d4d41354cd6"
      },
      "outputs": [
        {
          "data": {
            "image/png": "[encoded data removed]",
            "text/plain": [
              "<Figure size 800x600 with 2 Axes>"
            ]
          },
          "metadata": {},
          "output_type": "display_data"
        }
      ],
      "source": [
        "corr_m=df[num].corr()\n",
        "plt.figure(figsize=(8,6))\n",
        "sns.heatmap(corr_m,annot=True,cmap='coolwarm',fmt='.2f')\n",
        "plt.title('correlation Matrix of NUmerical variables')\n",
        "plt.show()"
      ]
    },
    {
      "cell_type": "code",
      "execution_count": null,
      "metadata": {
        "colab": {
          "base_uri": "https://localhost:8080/"
        },
        "id": "jzsg7a4Erk6T",
        "outputId": "ac6182ca-6f33-4820-df54-494cb92333c9"
      },
      "outputs": [
        {
          "name": "stdout",
          "output_type": "stream",
          "text": [
            "       culmen_length_mm  culmen_depth_mm  flipper_length_mm  body_mass_g\n",
            "count        342.000000       342.000000         342.000000   342.000000\n",
            "mean          43.921930        17.151170         200.915205  4201.754386\n",
            "std            5.459584         1.974793          14.061714   801.954536\n",
            "min           32.100000        13.100000         172.000000  2700.000000\n",
            "25%           39.225000        15.600000         190.000000  3550.000000\n",
            "50%           44.450000        17.300000         197.000000  4050.000000\n",
            "75%           48.500000        18.700000         213.000000  4750.000000\n",
            "max           59.600000        21.500000         231.000000  6300.000000\n"
          ]
        }
      ],
      "source": [
        "num_v=['culmen_length_mm','culmen_depth_mm','flipper_length_mm','body_mass_g']\n",
        "des=df[num_v].describe()\n",
        "print(des)"
      ]
    },
    {
      "cell_type": "code",
      "execution_count": null,
      "metadata": {
        "colab": {
          "base_uri": "https://localhost:8080/"
        },
        "id": "EiGC1Ca1r3su",
        "outputId": "ff61323b-28ea-4e20-b124-d79956c1b9df"
      },
      "outputs": [
        {
          "name": "stdout",
          "output_type": "stream",
          "text": [
            "column with missing values:\n",
            "culmen_length_mm      2\n",
            "culmen_depth_mm       2\n",
            "flipper_length_mm     2\n",
            "body_mass_g           2\n",
            "sex                  10\n",
            "dtype: int64\n",
            "\n",
            "Remaining missing values: 10\n"
          ]
        }
      ],
      "source": [
        "import numpy as np\n",
        "miss_v=df.isnull().sum()\n",
        "col_m=miss_v[miss_v>0]\n",
        "print(\"column with missing values:\")\n",
        "print(col_m)\n",
        "df_cl=df.dropna()\n",
        "df['culmen_length_mm'].fillna(df['culmen_length_mm'].mean(), inplace=True)\n",
        "df['culmen_depth_mm'].fillna(df['culmen_depth_mm'].mean(), inplace=True)\n",
        "df['flipper_length_mm'].fillna(df['flipper_length_mm'].mean(), inplace=True)\n",
        "df['body_mass_g'].fillna(df['body_mass_g'].mean(), inplace=True)\n",
        "remaining_missing = df.isnull().sum().sum()\n",
        "print(\"\\nRemaining missing values:\", remaining_missing)"
      ]
    },
    {
      "cell_type": "code",
      "execution_count": null,
      "metadata": {
        "colab": {
          "base_uri": "https://localhost:8080/"
        },
        "id": "Wn95PXSbsu_z",
        "outputId": "dd9eef83-6e3f-4384-a083-fec07ae9f4e1"
      },
      "outputs": [
        {
          "name": "stdout",
          "output_type": "stream",
          "text": [
            "Number of outliers removed: 10\n"
          ]
        },
        {
          "name": "stderr",
          "output_type": "stream",
          "text": [
            "<ipython-input-20-1075646a1487>:8: SettingWithCopyWarning: \n",
            "A value is trying to be set on a copy of a slice from a DataFrame\n",
            "\n",
            "See the caveats in the documentation: https://pandas.pydata.org/pandas-docs/stable/user_guide/indexing.html#returning-a-view-versus-a-copy\n",
            "  df_no_outliers[var][outliers] = np.nan\n"
          ]
        }
      ],
      "source": [
        "from scipy import stats\n",
        "numerical_vars = ['culmen_length_mm', 'culmen_depth_mm', 'flipper_length_mm', 'body_mass_g']\n",
        "z_threshold = 3\n",
        "df_no_outliers = df.copy()\n",
        "for var in numerical_vars:\n",
        "  z_scores = np.abs(stats.zscore(df[var]))\n",
        "  outliers = z_scores > z_threshold\n",
        "  df_no_outliers[var][outliers] = np.nan\n",
        "df_no_outliers_cleaned = df_no_outliers.dropna()\n",
        "outliers_removed = df.shape[0] - df_no_outliers_cleaned.shape[0]\n",
        "print(\"Number of outliers removed:\", outliers_removed)\n"
      ]
    },
    {
      "cell_type": "code",
      "execution_count": null,
      "metadata": {
        "colab": {
          "base_uri": "https://localhost:8080/"
        },
        "id": "kdUISQdXtMgF",
        "outputId": "63fdb5e2-a983-49c9-d060-2ef374180553"
      },
      "outputs": [
        {
          "name": "stdout",
          "output_type": "stream",
          "text": [
            "Chi-squared test results for culmen_length_mm:\n",
            "Chi-squared statistic: 470.5338593162223\n",
            "P-value: 3.868884352428073e-07\n",
            "\n",
            "Chi-squared test results for culmen_depth_mm:\n",
            "Chi-squared statistic: 379.9739448241096\n",
            "P-value: 6.137713516463007e-20\n",
            "\n",
            "Chi-squared test results for flipper_length_mm:\n",
            "Chi-squared statistic: 382.2373661501773\n",
            "P-value: 9.294963538872332e-32\n",
            "\n",
            "Chi-squared test results for body_mass_g:\n",
            "Chi-squared statistic: 367.89770778147147\n",
            "P-value: 9.265117412024159e-14\n",
            "\n"
          ]
        }
      ],
      "source": [
        "from scipy.stats import chi2_contingency\n",
        "target_variable = 'species'\n",
        "independent_variables = ['culmen_length_mm', 'culmen_depth_mm', 'flipper_length_mm', 'body_mass_g']\n",
        "for var in independent_variables:\n",
        "   contingency_table = pd.crosstab(df[target_variable], df[var])\n",
        "   chi2, p, dof, expected = chi2_contingency(contingency_table)\n",
        "   print(f\"Chi-squared test results for {var}:\")\n",
        "   print(f\"Chi-squared statistic: {chi2}\")\n",
        "   print(f\"P-value: {p}\")\n",
        "   print()\n"
      ]
    },
    {
      "cell_type": "code",
      "execution_count": null,
      "metadata": {
        "id": "L5FWmmlhtmNv"
      },
      "outputs": [],
      "source": [
        "categorical_columns = ['island', 'sex']\n",
        "df_encoded = pd.get_dummies(df, columns=categorical_columns, drop_first=True)\n",
        "independent_variables = ['culmen_length_mm', 'culmen_depth_mm', 'flipper_length_mm', 'body_mass_g']\n",
        "dependent_variable = 'species'\n",
        "X=df[independent_variables]\n",
        "y = df[dependent_variable]"
      ]
    },
    {
      "cell_type": "code",
      "execution_count": null,
      "metadata": {
        "colab": {
          "base_uri": "https://localhost:8080/"
        },
        "id": "Yq8xAkUMt0Tl",
        "outputId": "06a7d645-efe8-421e-bcdf-aefc133a434b"
      },
      "outputs": [
        {
          "name": "stdout",
          "output_type": "stream",
          "text": [
            "Training data - Features shape: (275, 4)\n",
            "Testing data - Features shape: (69, 4)\n",
            "Training data - Target shape: (275,)\n",
            "Testing data - Target shape: (69,)\n"
          ]
        }
      ],
      "source": [
        "from sklearn.preprocessing import StandardScaler\n",
        "independent_variables = ['culmen_length_mm', 'culmen_depth_mm', 'flipper_length_mm', 'body_mass_g']\n",
        "X = df[independent_variables]\n",
        "scaler = StandardScaler()\n",
        "X_scaled = scaler.fit_transform(X)\n",
        "\n",
        "from sklearn.model_selection import train_test_split\n",
        "independent_variables = ['culmen_length_mm', 'culmen_depth_mm', 'flipper_length_mm', 'body_mass_g']\n",
        "dependent_variable = 'species'\n",
        "X = df[independent_variables]\n",
        "y = df[dependent_variable]\n",
        "X_train, X_test, y_train, y_test = train_test_split(X, y, test_size=0.2, random_state=42)\n",
        "\n",
        "print(\"Training data - Features shape:\", X_train.shape)\n",
        "print(\"Testing data - Features shape:\", X_test.shape)\n",
        "print(\"Training data - Target shape:\", y_train.shape)\n",
        "print(\"Testing data - Target shape:\", y_test.shape)"
      ]
    },
    {
      "cell_type": "code",
      "execution_count": null,
      "metadata": {
        "colab": {
          "base_uri": "https://localhost:8080/"
        },
        "id": "U-tTMLBbt7LM",
        "outputId": "1cc0e712-8674-4f8d-9be3-eda7d30f024b"
      },
      "outputs": [
        {
          "name": "stdout",
          "output_type": "stream",
          "text": [
            "Training Accuracy: 0.9890909090909091\n",
            "Testing Accuracy: 0.9710144927536232\n"
          ]
        }
      ],
      "source": [
        "#Accuracy Predictions\n",
        "#Accuracy Values Generation\n",
        "from sklearn.model_selection import train_test_split\n",
        "X_train, X_test, y_train, y_test = train_test_split(X, y, test_size=0.2, random_state=42)\n",
        "from sklearn.preprocessing import StandardScaler\n",
        "scaler = StandardScaler()\n",
        "X_train_scaled = scaler.fit_transform(X_train)\n",
        "X_test_scaled = scaler.transform(X_test)\n",
        "from sklearn.linear_model import LogisticRegression\n",
        "from sklearn.metrics import accuracy_score\n",
        "model = LogisticRegression(random_state=42)\n",
        "model.fit(X_train_scaled, y_train)\n",
        "y_train_pred = model.predict(X_train_scaled)\n",
        "y_test_pred = model.predict(X_test_scaled)\n",
        "train_accuracy = accuracy_score(y_train, y_train_pred)\n",
        "print(\"Training Accuracy:\", train_accuracy)\n",
        "test_accuracy = accuracy_score(y_test, y_test_pred)\n",
        "print(\"Testing Accuracy:\", test_accuracy)"
      ]
    }
  ],
  "metadata": {
    "colab": {
      "provenance": []
    },
    "kernelspec": {
      "display_name": "Python 3",
      "name": "python3"
    },
    "language_info": {
      "name": "python"
    }
  },
  "nbformat": 4,
  "nbformat_minor": 0
}
