{
  "cells": [
    {
      "cell_type": "markdown",
      "metadata": {
        "id": "CMh2_0Dw9kuP"
      },
      "source": [
        "## **ASSIGNMENT - 1**"
      ]
    },
    {
      "cell_type": "markdown",
      "metadata": {
        "id": "etm9JhWL9qJf"
      },
      "source": [
        "##Task 1\n",
        "Create a pandas dataframe (DataFrame name as 'df') with numpy random values (4 features and 4 observation)"
      ]
    },
    {
      "cell_type": "code",
      "execution_count": 1,
      "metadata": {
        "colab": {
          "base_uri": "https://localhost:8080/"
        },
        "id": "ASwkK6mW8IuN",
        "outputId": "e710bd57-5197-4de4-b4c5-260d2dea3bcd"
      },
      "outputs": [
        {
          "name": "stdout",
          "output_type": "stream",
          "text": [
            "   Feature1  Feature2  Feature3  Feature4\n",
            "0  0.374540  0.950714  0.731994  0.598658\n",
            "1  0.156019  0.155995  0.058084  0.866176\n",
            "2  0.601115  0.708073  0.020584  0.969910\n",
            "3  0.832443  0.212339  0.181825  0.183405\n"
          ]
        }
      ],
      "source": [
        "import pandas as pd\n",
        "import numpy as np\n",
        "# Set seed for reproducibility (optional)\n",
        "np.random.seed(42)\n",
        "# Generating random values\n",
        "num_observation = 4\n",
        "num_features = 4\n",
        "random_values = np.random.rand(num_observation, num_features)\n",
        "# Creating DataFrame\n",
        "df = pd.DataFrame(random_values, columns=['Feature1', 'Feature2', 'Feature3', 'Feature4'])\n",
        "print(df)"
      ]
    },
    {
      "cell_type": "markdown",
      "metadata": {
        "id": "YBb8G2x5-ACn"
      },
      "source": [
        "##Task 2\n",
        "Rename the previous task 'df' dataframe column names to 'Random Value 1', 'Random Value 2', 'Random Value 3' and 'Random Value 4'."
      ]
    },
    {
      "cell_type": "code",
      "execution_count": 2,
      "metadata": {
        "colab": {
          "base_uri": "https://localhost:8080/"
        },
        "id": "Ij3ijO0Y-Jmg",
        "outputId": "552963da-7c16-465d-c574-dd14a67b68df"
      },
      "outputs": [
        {
          "name": "stdout",
          "output_type": "stream",
          "text": [
            "   Random Value 1  Random Value 2  Random Value 3  Random Value 4\n",
            "0        0.374540        0.950714        0.731994        0.598658\n",
            "1        0.156019        0.155995        0.058084        0.866176\n",
            "2        0.601115        0.708073        0.020584        0.969910\n",
            "3        0.832443        0.212339        0.181825        0.183405\n"
          ]
        }
      ],
      "source": [
        "# Renaming columns\n",
        "new_column_names = {\n",
        "    'Feature1': 'Random Value 1',\n",
        "    'Feature2': 'Random Value 2',\n",
        "    'Feature3': 'Random Value 3',\n",
        "    'Feature4': 'Random Value 4'\n",
        "}\n",
        "df = df.rename(columns=new_column_names)\n",
        "print(df)"
      ]
    },
    {
      "cell_type": "markdown",
      "metadata": {
        "id": "ld8S5nqi-Opf"
      },
      "source": [
        "##Task 3\n",
        "Find the descriptive statistics of the 'df' dataframe"
      ]
    },
    {
      "cell_type": "code",
      "execution_count": 3,
      "metadata": {
        "colab": {
          "base_uri": "https://localhost:8080/"
        },
        "id": "WfoeqbJG-Tye",
        "outputId": "bf01f747-8a56-40bd-e6ff-ff80d74ba0b3"
      },
      "outputs": [
        {
          "name": "stdout",
          "output_type": "stream",
          "text": [
            "       Random Value 1  Random Value 2  Random Value 3  Random Value 4\n",
            "count        4.000000        4.000000        4.000000        4.000000\n",
            "mean         0.491029        0.506780        0.248122        0.654537\n",
            "std          0.291252        0.386153        0.329856        0.350875\n",
            "min          0.156019        0.155995        0.020584        0.183405\n",
            "25%          0.319910        0.198253        0.048709        0.494845\n",
            "50%          0.487828        0.460206        0.119954        0.732417\n",
            "75%          0.658947        0.768733        0.319367        0.892110\n",
            "max          0.832443        0.950714        0.731994        0.969910\n"
          ]
        }
      ],
      "source": [
        "# Displaying descriptive statistics\n",
        "descriptive_stats = df.describe()\n",
        "print(descriptive_stats)"
      ]
    },
    {
      "cell_type": "markdown",
      "metadata": {
        "id": "A9VAijGx-ZEG"
      },
      "source": [
        "##Task 4\n",
        "Check for the null values in 'df' and find the data type  of the columns"
      ]
    },
    {
      "cell_type": "code",
      "execution_count": 4,
      "metadata": {
        "colab": {
          "base_uri": "https://localhost:8080/"
        },
        "id": "EtRR_pIA-dcz",
        "outputId": "583c14f7-d49b-4804-dd40-45efce1da914"
      },
      "outputs": [
        {
          "name": "stdout",
          "output_type": "stream",
          "text": [
            "Null Values:\n",
            "Random Value 1    0\n",
            "Random Value 2    0\n",
            "Random Value 3    0\n",
            "Random Value 4    0\n",
            "dtype: int64\n",
            "\n",
            "Data Types:\n",
            "Random Value 1    float64\n",
            "Random Value 2    float64\n",
            "Random Value 3    float64\n",
            "Random Value 4    float64\n",
            "dtype: object\n"
          ]
        }
      ],
      "source": [
        "# Checking for null values\n",
        "null_values = df.isnull().sum()\n",
        "# Finding data types of columns\n",
        "data_types = df.dtypes\n",
        "print(\"Null Values:\")\n",
        "print(null_values)\n",
        "print(\"\\nData Types:\")\n",
        "print(data_types)"
      ]
    },
    {
      "cell_type": "markdown",
      "metadata": {
        "id": "cE3IcI7o-nBK"
      },
      "source": [
        "##Task 5\n",
        "Display the 'Random Value 2' and 'Random Value 3' columns with location method and index method"
      ]
    },
    {
      "cell_type": "code",
      "execution_count": 5,
      "metadata": {
        "colab": {
          "base_uri": "https://localhost:8080/"
        },
        "id": "q8n3K-rV-p00",
        "outputId": "542f387a-72cf-477c-88f7-cdf8c2a44c33"
      },
      "outputs": [
        {
          "name": "stdout",
          "output_type": "stream",
          "text": [
            "Using .loc[]:\n",
            "0    0.950714\n",
            "1    0.155995\n",
            "2    0.708073\n",
            "3    0.212339\n",
            "Name: Random Value 2, dtype: float64\n",
            "0    0.731994\n",
            "1    0.058084\n",
            "2    0.020584\n",
            "3    0.181825\n",
            "Name: Random Value 3, dtype: float64\n"
          ]
        }
      ],
      "source": [
        "# Accessing columns using loc[]\n",
        "random_value_2_loc = df.loc[:, 'Random Value 2']\n",
        "random_value_3_loc = df.loc[:, 'Random Value 3']\n",
        "print(\"Using .loc[]:\")\n",
        "print(random_value_2_loc)\n",
        "print(random_value_3_loc)"
      ]
    }
  ],
  "metadata": {
    "colab": {
      "provenance": []
    },
    "kernelspec": {
      "display_name": "Python 3",
      "name": "python3"
    },
    "language_info": {
      "name": "python"
    }
  },
  "nbformat": 4,
  "nbformat_minor": 0
}
